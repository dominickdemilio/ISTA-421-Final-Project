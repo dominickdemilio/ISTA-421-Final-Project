{
 "cells": [
  {
   "cell_type": "code",
   "execution_count": null,
   "id": "26621e7a",
   "metadata": {},
   "outputs": [],
   "source": [
    "import pandas as pd\n",
    "import numpy as np\n",
    "import matplotlib.pyplot as plt\n",
    "import seaborn as sns\n",
    "import scipy.stats as stats\n",
    "from sklearn.linear_model import LinearRegression\n",
    "from sklearn.model_selection import train_test_split"
   ]
  },
  {
   "cell_type": "markdown",
   "id": "ad49b37a",
   "metadata": {},
   "source": [
    "# Data Exploration"
   ]
  },
  {
   "cell_type": "code",
   "execution_count": null,
   "id": "a1150f9a",
   "metadata": {},
   "outputs": [],
   "source": [
    "# Load dataset\n",
    "filename = \"dataset/survey_results_public.csv\"\n",
    "df = pd.read_csv(filename, low_memory=False)"
   ]
  },
  {
   "cell_type": "code",
   "execution_count": null,
   "id": "0b2833c3",
   "metadata": {},
   "outputs": [],
   "source": [
    "# Look at df shape and other info\n",
    "print(\"DF Shape\", df.shape)\n",
    "print(\"Columns:\", df.columns.tolist())\n",
    "df.info()"
   ]
  },
  {
   "cell_type": "code",
   "execution_count": null,
   "id": "e30ca368",
   "metadata": {},
   "outputs": [],
   "source": [
    "# See what percent of each column is missing, sort by those with most missing\n",
    "missing_counts = (df.isnull().mean() * 100).sort_values(ascending=False)\n",
    "print(missing_counts)"
   ]
  },
  {
   "cell_type": "code",
   "execution_count": null,
   "id": "70ce7d13",
   "metadata": {},
   "outputs": [],
   "source": [
    "# Check to make sure there are no duplicate rowws\n",
    "duplicates = df.duplicated().sum()\n",
    "print(duplicates)"
   ]
  },
  {
   "cell_type": "code",
   "execution_count": null,
   "id": "d6b9b4d9",
   "metadata": {},
   "outputs": [],
   "source": [
    "# Print other useful data info\n",
    "# df.describe()\n",
    "df.describe(include=[np.number])\n",
    "# df.describe(include=[object, 'category'])"
   ]
  },
  {
   "cell_type": "code",
   "execution_count": null,
   "id": "aef4a1ca",
   "metadata": {},
   "outputs": [],
   "source": [
    "# Check what distribution salary has\n",
    "# Not sure if I really need to do this but why not\n",
    "sns.histplot(df[\"ConvertedSalary\"])\n",
    "plt.title(\"Distribution\")\n",
    "plt.show()\n",
    "\n",
    "sns.boxplot(x=df[\"ConvertedSalary\"])\n",
    "plt.title(\"Boxplot\")\n",
    "plt.show()"
   ]
  },
  {
   "cell_type": "markdown",
   "id": "85a1201a",
   "metadata": {},
   "source": [
    "# Modeling"
   ]
  },
  {
   "cell_type": "code",
   "execution_count": null,
   "id": "26755ceb",
   "metadata": {},
   "outputs": [],
   "source": []
  }
 ],
 "metadata": {
  "kernelspec": {
   "display_name": "venv",
   "language": "python",
   "name": "python3"
  },
  "language_info": {
   "name": "python",
   "version": "3.11.9"
  }
 },
 "nbformat": 4,
 "nbformat_minor": 5
}
